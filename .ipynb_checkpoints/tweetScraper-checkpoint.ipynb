{
 "cells": [
  {
   "cell_type": "code",
   "execution_count": null,
   "id": "d228db0e-45db-4e22-aa68-ab1bda4e03a2",
   "metadata": {},
   "outputs": [],
   "source": [
    "from twitter_scraper import get_tweets"
   ]
  },
  {
   "cell_type": "code",
   "execution_count": null,
   "id": "c5d1979f-8f8f-4731-b202-5bc3247af53f",
   "metadata": {},
   "outputs": [],
   "source": [
    "for tweet in get_tweets('twitter', pages=1):\n",
    "    print(tweet['text'])"
   ]
  },
  {
   "cell_type": "code",
   "execution_count": 1,
   "id": "03568c65-2392-4a99-a482-2d59466b618e",
   "metadata": {},
   "outputs": [
    {
     "name": "stdout",
     "output_type": "stream",
     "text": [
      "1586532684620214274 2022-10-30 08:37:23 +0700 <elonmusk> @WholeMarsBlog @karpathy Andrej will always be welcome at Tesla\n",
      "1584540160959860738 2022-10-24 20:39:48 +0700 <elonmusk> @MarcusHouse @LordofEa @kerrikgray @chicago_glenn @Tesla @teslaownersSV @dvorahfr @TonyadeVitti @SpaceX @SirineAti That’s the plan, unless it is damaged in testing. What really matters is that ship &amp; booster production line is spooling up. Also, each new ship &amp; booster has incremental design improvements.\n",
      "1584312886066749441 2022-10-24 05:36:41 +0700 <elonmusk> @LordofEa @kerrikgray @chicago_glenn @Tesla @teslaownersSV @dvorahfr @TonyadeVitti @SpaceX @SirineAti Absolutely!\n",
      "1583340073319530497 2022-10-21 13:11:05 +0700 <elonmusk> @teslaownersSV @BillyM2k Varies a lot. Tesla &amp; SpaceX are in good positions, but many other companies are not.   Recessions do have a silver lining in that companies that shouldn’t exist stop existing.\n",
      "1582166395345068034 2022-10-18 07:27:18 +0700 <elonmusk> @TeslaAIBot @SpaceX @Tesla Thanks Optimus :)\n",
      "1578387441332928513 2022-10-07 21:11:05 +0700 <elonmusk> In case you missed Tesla AI Day 2022  https://t.co/Sbu0peXpY1\n",
      "1578170980283076608 2022-10-07 06:50:57 +0700 <elonmusk> Excited to announce start of production of Tesla Semi Truck with deliveries to @Pepsi on Dec 1st!  https://t.co/gq0l73iGRW\n",
      "1577832990490693632 2022-10-06 08:27:54 +0700 <elonmusk> @LindseyGrahamSC First of all, Tesla hasn’t had that consumer tax credit for years &amp; we didn’t ask for this one – GM &amp; Ford did\n",
      "1576846397793787904 2022-10-03 15:07:32 +0700 <elonmusk> @PPathole @Tesla @SpaceX @neuralink @boringcompany I’m trying my hardest! Perhaps more people might consider loving humanity.   Our collective light of consciousness is a tiny candle in a vast darkness. Please do not let it go out.\n",
      "1576844919846883328 2022-10-03 15:01:39 +0700 <elonmusk> @cb_doge @Tesla Optimus will be sickkk\n",
      "1576844786668929024 2022-10-03 15:01:08 +0700 <elonmusk> @cb_doge @Tesla 👀\n",
      "1576844052250603520 2022-10-03 14:58:13 +0700 <elonmusk> @WholeMarsBlog Would be cool to make a game using Tesla Sim that’s literally your city &amp; neighborhood, down to skid marks on road &amp; then inject fantasy/sci-fi elements\n",
      "1576637452726702081 2022-10-03 01:17:15 +0700 <elonmusk> @WholeMarsBlog Smoothing out crazy end of quarter delivery wave to reduce expedite costs &amp; relieve stress on Tesla team. Aiming for steadier deliveries intra-quarter.\n",
      "1576589037829509121 2022-10-02 22:04:52 +0700 <elonmusk> @OriolVinyalsML @Tesla @karpathy Thanks, we have a great team\n",
      "1576383741479768066 2022-10-02 08:29:06 +0700 <elonmusk> Recording of Tesla AI Day 2022   https://t.co/7LR51x7pXa\n",
      "1576038326364053504 2022-10-01 09:36:33 +0700 <elonmusk> The point of AI Day is to show the immense depth &amp; breadth of Tesla in AI, compute hardware &amp; robotics\n",
      "1576034738820636673 2022-10-01 09:22:17 +0700 <elonmusk> @cb_doge @Tesla 🤣\n",
      "1575970770584379392 2022-10-01 05:08:06 +0700 <elonmusk> Tesla AI Day 2022 starts at precisely 6:15pm California time\n",
      "1575969637631565825 2022-10-01 05:03:36 +0700 <elonmusk> @teslaownersSV @Tesla Tesla team is awesome, such an honor to work with them!\n",
      "1575268810109505536 2022-09-29 06:38:46 +0700 <elonmusk> Last coal shipment arrived in Hawaii at same time as Tesla Megapack batteries that will enable 24/7 sustainable energy  https://t.co/zlqJHLsAQq\n",
      "1575210561964384258 2022-09-29 02:47:18 +0700 <elonmusk> @Teslarati @KlenderJoey How ironic, that’s what Henrik Fisker did to Tesla in 2007! Karma is a …\n",
      "1572620091396878338 2022-09-21 23:13:42 +0700 <elonmusk> @teslaownersSV @Teslarati Maybe little electric Tesla boats with a retro-futuristic Victorian design\n",
      "1570441171431985152 2022-09-15 22:55:27 +0700 <elonmusk> @GailAlfarATX @Tesla @aelluswamy Beta expanding to safety scores above 80 after 10.69.2.1 goes out\n"
     ]
    }
   ],
   "source": [
    "import twint\n",
    "import nest_asyncio\n",
    "import pandas as pd\n",
    "nest_asyncio.apply()\n",
    "config = twint.Config()\n",
    "config.Username = \"elonmusk\"\n",
    "config.Search = \"tesla\"\n",
    "config.Limit = 20\n",
    "config.Pandas = True\n",
    "twint.run.Search(config)\n",
    "df = twint.storage.panda.Tweets_df"
   ]
  },
  {
   "cell_type": "code",
   "execution_count": null,
   "id": "ad61f866-3445-44e3-aa42-7c1b57b4b25f",
   "metadata": {},
   "outputs": [],
   "source": []
  }
 ],
 "metadata": {
  "kernelspec": {
   "display_name": "Python 3 (ipykernel)",
   "language": "python",
   "name": "python3"
  },
  "language_info": {
   "codemirror_mode": {
    "name": "ipython",
    "version": 3
   },
   "file_extension": ".py",
   "mimetype": "text/x-python",
   "name": "python",
   "nbconvert_exporter": "python",
   "pygments_lexer": "ipython3",
   "version": "3.10.6"
  }
 },
 "nbformat": 4,
 "nbformat_minor": 5
}
