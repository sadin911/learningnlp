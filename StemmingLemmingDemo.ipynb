{
 "cells": [
  {
   "cell_type": "code",
   "execution_count": 1,
   "id": "1eb62f48-c08d-4809-bd72-1fdee5c11109",
   "metadata": {},
   "outputs": [],
   "source": [
    "import nltk"
   ]
  },
  {
   "cell_type": "code",
   "execution_count": null,
   "id": "7c5700ff-fbbe-4307-9c4b-af192c2a1443",
   "metadata": {},
   "outputs": [
    {
     "name": "stdout",
     "output_type": "stream",
     "text": [
      "showing info https://raw.githubusercontent.com/nltk/nltk_data/gh-pages/index.xml\n"
     ]
    }
   ],
   "source": [
    "#nltk.download()"
   ]
  },
  {
   "cell_type": "code",
   "execution_count": 14,
   "id": "9c8ac004-5fe9-47ed-ab7f-d30c62e4595b",
   "metadata": {},
   "outputs": [],
   "source": [
    "from nltk.stem import PorterStemmer\n",
    "from nltk.tokenize import word_tokenize"
   ]
  },
  {
   "cell_type": "code",
   "execution_count": 7,
   "id": "39ebe5d8-19df-4ccb-a9c1-79cc112192ee",
   "metadata": {},
   "outputs": [
    {
     "name": "stdout",
     "output_type": "stream",
     "text": [
      "dogs:dog\n",
      "doggy:doggi\n",
      "hotdog:hotdog\n",
      "puppy:puppi\n"
     ]
    }
   ],
   "source": [
    "poster_stemmer = PorterStemmer()\n",
    "words = [\"dogs\",\"doggy\",\"hotdog\",\"puppy\"]\n",
    "\n",
    "for w in words:\n",
    "    print(f\"{w}:{poster_stemmer.stem(w)}\")"
   ]
  },
  {
   "cell_type": "code",
   "execution_count": 8,
   "id": "868c6452-2a82-49b0-b2bc-60f8fb26b071",
   "metadata": {},
   "outputs": [
    {
     "name": "stdout",
     "output_type": "stream",
     "text": [
      "computer:comput\n",
      "compute:comput\n"
     ]
    }
   ],
   "source": [
    "words = [\"computer\",\"compute\"]\n",
    "for w in words:\n",
    "    print(f\"{w}:{poster_stemmer.stem(w)}\")"
   ]
  },
  {
   "cell_type": "code",
   "execution_count": 9,
   "id": "f601af80-e8fd-493a-a101-b8bcaf26ef7c",
   "metadata": {},
   "outputs": [
    {
     "name": "stdout",
     "output_type": "stream",
     "text": [
      "programmer:programm\n",
      "program:program\n",
      "programs:program\n"
     ]
    }
   ],
   "source": [
    "words = [\"programmer\",\"program\",\"programs\"]\n",
    "for w in words:\n",
    "    print(f\"{w}:{poster_stemmer.stem(w)}\")"
   ]
  },
  {
   "cell_type": "code",
   "execution_count": 14,
   "id": "20132d48-c714-46df-9fe3-265e821e52e0",
   "metadata": {},
   "outputs": [
    {
     "name": "stdout",
     "output_type": "stream",
     "text": [
      "dogs:dog\n",
      "doggy:doggi\n",
      "hotdog:hotdog\n",
      "puppy:puppi\n"
     ]
    }
   ],
   "source": [
    "from nltk.stem.snowball import SnowballStemmer\n",
    "snowball_stemmer = SnowballStemmer('english')\n",
    "\n",
    "words = [\"dogs\",\"doggy\",\"hotdog\",\"puppy\"]\n",
    "for w in words:\n",
    "    print(f\"{w}:{snowball_stemmer.stem(w)}\")"
   ]
  },
  {
   "cell_type": "code",
   "execution_count": 15,
   "id": "ebcd41cb-43ae-4a40-a10d-332b04cf91ac",
   "metadata": {},
   "outputs": [],
   "source": [
    "from nltk.stem import WordNetLemmatizer"
   ]
  },
  {
   "cell_type": "code",
   "execution_count": 17,
   "id": "76184e5f-7043-4491-a6d4-e12a62bc75e6",
   "metadata": {},
   "outputs": [
    {
     "name": "stdout",
     "output_type": "stream",
     "text": [
      "cats:cat\n",
      "catlike:catlike\n",
      "catty:catty\n",
      "kitten:kitten\n"
     ]
    }
   ],
   "source": [
    "wnl = WordNetLemmatizer()\n",
    "words = [\"cats\",\"catlike\",\"catty\",\"kitten\"]\n",
    "for w in words:\n",
    "    print(f\"{w}:{wnl.lemmatize(w)}\")"
   ]
  },
  {
   "cell_type": "code",
   "execution_count": 18,
   "id": "a7612dc7-3ae9-41f2-93bf-e5ffa0369ff6",
   "metadata": {},
   "outputs": [
    {
     "name": "stdout",
     "output_type": "stream",
     "text": [
      "better:better\n",
      "good:good\n",
      "best:best\n"
     ]
    }
   ],
   "source": [
    "words = [\"better\",\"good\",\"best\"]\n",
    "for w in words:\n",
    "    print(f\"{w}:{wnl.lemmatize(w)}\")"
   ]
  },
  {
   "cell_type": "code",
   "execution_count": 26,
   "id": "c2f1b19f-92c0-49d1-abff-3ff2e928cd9e",
   "metadata": {},
   "outputs": [
    {
     "name": "stdout",
     "output_type": "stream",
     "text": [
      "Programmers : programm\n",
      "use : use\n",
      "programming : program\n",
      "languages : languag\n",
      "to : to\n",
      "write : write\n",
      "computer : comput\n",
      "programs : program\n"
     ]
    }
   ],
   "source": [
    "sentence = \"Programmers use programming languages to write computer programs\"\n",
    "words = word_tokenize(sentence)\n",
    "for w in words:\n",
    "    print(f\"{w} : {poster_stemmer.stem(w)}\")"
   ]
  },
  {
   "cell_type": "code",
   "execution_count": 27,
   "id": "ef932da4-fa32-458e-8b2a-faab08c2f7b8",
   "metadata": {},
   "outputs": [
    {
     "name": "stdout",
     "output_type": "stream",
     "text": [
      "Programmers : programm\n",
      "use : use\n",
      "programming : program\n",
      "languages : languag\n",
      "to : to\n",
      "write : write\n",
      "computer : comput\n",
      "programs : program\n"
     ]
    }
   ],
   "source": [
    "for w in words:\n",
    "    print(f\"{w} : {snowball_stemmer.stem(w)}\")"
   ]
  },
  {
   "cell_type": "code",
   "execution_count": 29,
   "id": "f349498c-153f-4fcf-8072-189f66273033",
   "metadata": {},
   "outputs": [
    {
     "name": "stdout",
     "output_type": "stream",
     "text": [
      "Programmers : programm : Programmers\n",
      "use : use : use\n",
      "programming : program : programming\n",
      "languages : languag : language\n",
      "to : to : to\n",
      "write : write : write\n",
      "computer : comput : computer\n",
      "programs : program : program\n"
     ]
    }
   ],
   "source": [
    "for w in words:\n",
    "    print(f\"{w} : {snowball_stemmer.stem(w)} : {wnl.lemmatize(w)}\")"
   ]
  },
  {
   "cell_type": "code",
   "execution_count": 5,
   "id": "a2871ce0-6431-4592-b30e-b0132533378e",
   "metadata": {},
   "outputs": [],
   "source": [
    "import spacy"
   ]
  },
  {
   "cell_type": "code",
   "execution_count": 7,
   "id": "251855c7-6692-46d7-a10a-5b73a426989a",
   "metadata": {},
   "outputs": [],
   "source": [
    "nlp = spacy.load(\"en_core_web_md\")"
   ]
  },
  {
   "cell_type": "code",
   "execution_count": 8,
   "id": "e790566a-a300-4be7-b2b7-7094b8f22d2e",
   "metadata": {},
   "outputs": [
    {
     "name": "stdout",
     "output_type": "stream",
     "text": [
      "Programmers : programmer\n",
      "use : use\n",
      "programming : programming\n",
      "languages : language\n",
      "to : to\n",
      "write : write\n",
      "computer : computer\n",
      "programs : program\n"
     ]
    }
   ],
   "source": [
    "sentence = \"Programmers use programming languages to write computer programs\"\n",
    "doc = nlp(sentence)\n",
    "for word in doc:\n",
    "    print(f\"{word.text} : {word.lemma_}\")"
   ]
  },
  {
   "cell_type": "code",
   "execution_count": 12,
   "id": "03b73339-83bb-4beb-954f-0f686d2366ca",
   "metadata": {},
   "outputs": [
    {
     "name": "stdout",
     "output_type": "stream",
     "text": [
      "Lets : let\n",
      "meet : meet\n",
      "today : today\n",
      ". : .\n",
      "In : in\n",
      "this : this\n",
      "meeting : meeting\n",
      "let : let\n",
      "us : we\n",
      "continue : continue\n",
      "to : to\n",
      "discuss : discuss\n",
      "on : on\n",
      "what : what\n",
      "we : we\n",
      "left : leave\n",
      "during : during\n",
      "the : the\n",
      "last : last\n",
      "time : time\n",
      "I : I\n",
      "met : meet\n",
      "you : you\n",
      ". : .\n"
     ]
    }
   ],
   "source": [
    "sentence = \"Lets meet today. In this meeting let us continue to discuss on what we left during the last time I met you.\"\n",
    "doc = nlp(sentence)\n",
    "for word in doc:\n",
    "    print(f\"{word.text} : {word.lemma_}\")"
   ]
  },
  {
   "cell_type": "code",
   "execution_count": 16,
   "id": "2256a532-080f-4af5-8070-f4e40c27e66f",
   "metadata": {},
   "outputs": [
    {
     "name": "stdout",
     "output_type": "stream",
     "text": [
      "แมว:แมว\n",
      "หญ้าหนวดแมว:หญ้าหนวดแมว\n"
     ]
    }
   ],
   "source": [
    "wnl = WordNetLemmatizer()\n",
    "words = [\"แมว\",\"หญ้าหนวดแมว\"]\n",
    "for w in words:\n",
    "    print(f\"{w}:{wnl.lemmatize(w)}\")"
   ]
  },
  {
   "cell_type": "code",
   "execution_count": 1,
   "id": "2f2b5a28-7449-4fc4-b191-0e501128fb49",
   "metadata": {},
   "outputs": [
    {
     "ename": "NameError",
     "evalue": "name 'word_tokenize' is not defined",
     "output_type": "error",
     "traceback": [
      "\u001b[1;31m---------------------------------------------------------------------------\u001b[0m",
      "\u001b[1;31mNameError\u001b[0m                                 Traceback (most recent call last)",
      "\u001b[1;32m~\\AppData\\Local\\Temp\\ipykernel_22076\\1564906409.py\u001b[0m in \u001b[0;36m<cell line: 2>\u001b[1;34m()\u001b[0m\n\u001b[0;32m      1\u001b[0m \u001b[0msentence\u001b[0m \u001b[1;33m=\u001b[0m \u001b[1;34m\"แมวชอบไปเล่นบนหลังคาบ้านแล้วตกลงมาบ่อยๆ\"\u001b[0m\u001b[1;33m\u001b[0m\u001b[1;33m\u001b[0m\u001b[0m\n\u001b[1;32m----> 2\u001b[1;33m \u001b[0mwords\u001b[0m \u001b[1;33m=\u001b[0m \u001b[0mword_tokenize\u001b[0m\u001b[1;33m(\u001b[0m\u001b[0msentence\u001b[0m\u001b[1;33m)\u001b[0m\u001b[1;33m\u001b[0m\u001b[1;33m\u001b[0m\u001b[0m\n\u001b[0m",
      "\u001b[1;31mNameError\u001b[0m: name 'word_tokenize' is not defined"
     ]
    }
   ],
   "source": [
    "sentence = \"แมวชอบไปเล่นบนหลังคาบ้านแล้วตกลงมาบ่อยๆ\"\n",
    "words = word_tokenize(sentence)"
   ]
  },
  {
   "cell_type": "code",
   "execution_count": 18,
   "id": "9ed407a4-e61e-4a62-b60c-f8b2e0e6164c",
   "metadata": {},
   "outputs": [
    {
     "name": "stdout",
     "output_type": "stream",
     "text": [
      "แมวชอบไปเล่นบนหลังคาบ้านแล้วตกลงมาบ่อยๆ:แมวชอบไปเล่นบนหลังคาบ้านแล้วตกลงมาบ่อยๆ\n"
     ]
    }
   ],
   "source": [
    "for w in words:\n",
    "    print(f\"{w}:{wnl.lemmatize(w)}\")"
   ]
  },
  {
   "cell_type": "code",
   "execution_count": 28,
   "id": "2a40e1a0-0924-4293-8f8f-89cdadd0bbf1",
   "metadata": {},
   "outputs": [
    {
     "ename": "AttributeError",
     "evalue": "'list' object has no attribute 'lemma_names'",
     "output_type": "error",
     "traceback": [
      "\u001b[1;31m---------------------------------------------------------------------------\u001b[0m",
      "\u001b[1;31mAttributeError\u001b[0m                            Traceback (most recent call last)",
      "\u001b[1;32m~\\AppData\\Local\\Temp\\ipykernel_15104\\1123439482.py\u001b[0m in \u001b[0;36m<cell line: 2>\u001b[1;34m()\u001b[0m\n\u001b[0;32m      1\u001b[0m \u001b[1;32mfrom\u001b[0m \u001b[0mnltk\u001b[0m\u001b[1;33m.\u001b[0m\u001b[0mcorpus\u001b[0m \u001b[1;32mimport\u001b[0m \u001b[0mwordnet\u001b[0m \u001b[1;32mas\u001b[0m \u001b[0mwn\u001b[0m\u001b[1;33m\u001b[0m\u001b[1;33m\u001b[0m\u001b[0m\n\u001b[1;32m----> 2\u001b[1;33m \u001b[0mwn\u001b[0m\u001b[1;33m.\u001b[0m\u001b[0msynsets\u001b[0m\u001b[1;33m(\u001b[0m\u001b[1;34m'แมว'\u001b[0m\u001b[1;33m,\u001b[0m\u001b[0mlang\u001b[0m\u001b[1;33m=\u001b[0m\u001b[1;34m'tha'\u001b[0m\u001b[1;33m)\u001b[0m\u001b[1;33m.\u001b[0m\u001b[0mlemma_names\u001b[0m\u001b[1;33m(\u001b[0m\u001b[1;34m'tha'\u001b[0m\u001b[1;33m)\u001b[0m\u001b[1;33m\u001b[0m\u001b[1;33m\u001b[0m\u001b[0m\n\u001b[0m",
      "\u001b[1;31mAttributeError\u001b[0m: 'list' object has no attribute 'lemma_names'"
     ]
    }
   ],
   "source": [
    "from nltk.corpus import wordnet as wn\n",
    "wn.synsets('แมว',lang='tha').lemma_names('tha')"
   ]
  },
  {
   "cell_type": "code",
   "execution_count": 27,
   "id": "8581fd9e-db96-4d34-b468-625190c4ec5f",
   "metadata": {},
   "outputs": [
    {
     "ename": "IndexError",
     "evalue": "list index out of range",
     "output_type": "error",
     "traceback": [
      "\u001b[1;31m---------------------------------------------------------------------------\u001b[0m",
      "\u001b[1;31mIndexError\u001b[0m                                Traceback (most recent call last)",
      "\u001b[1;32m~\\AppData\\Local\\Temp\\ipykernel_15104\\563863365.py\u001b[0m in \u001b[0;36m<cell line: 1>\u001b[1;34m()\u001b[0m\n\u001b[1;32m----> 1\u001b[1;33m \u001b[0mwn\u001b[0m\u001b[1;33m.\u001b[0m\u001b[0msynsets\u001b[0m\u001b[1;33m(\u001b[0m\u001b[1;34m'แมว'\u001b[0m\u001b[1;33m)\u001b[0m\u001b[1;33m[\u001b[0m\u001b[1;33m-\u001b[0m\u001b[1;36m1\u001b[0m\u001b[1;33m]\u001b[0m\u001b[1;33m.\u001b[0m\u001b[0mlemma_names\u001b[0m\u001b[1;33m(\u001b[0m\u001b[1;34m'tha'\u001b[0m\u001b[1;33m)\u001b[0m\u001b[1;33m\u001b[0m\u001b[1;33m\u001b[0m\u001b[0m\n\u001b[0m",
      "\u001b[1;31mIndexError\u001b[0m: list index out of range"
     ]
    }
   ],
   "source": [
    "wn.synsets('แมว')[-1].lemma_names('tha')"
   ]
  },
  {
   "cell_type": "code",
   "execution_count": null,
   "id": "91b42c7d-5a34-4887-8e88-d7f1a269b5ea",
   "metadata": {},
   "outputs": [],
   "source": []
  }
 ],
 "metadata": {
  "kernelspec": {
   "display_name": "Python 3 (ipykernel)",
   "language": "python",
   "name": "python3"
  },
  "language_info": {
   "codemirror_mode": {
    "name": "ipython",
    "version": 3
   },
   "file_extension": ".py",
   "mimetype": "text/x-python",
   "name": "python",
   "nbconvert_exporter": "python",
   "pygments_lexer": "ipython3",
   "version": "3.10.6"
  }
 },
 "nbformat": 4,
 "nbformat_minor": 5
}
