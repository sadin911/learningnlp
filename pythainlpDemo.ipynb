{
 "cells": [
  {
   "cell_type": "code",
   "execution_count": 1,
   "id": "91a39c7a-1714-4c3a-9625-33074f0a5ae5",
   "metadata": {},
   "outputs": [],
   "source": [
    "from pythainlp import sent_tokenize"
   ]
  },
  {
   "cell_type": "code",
   "execution_count": 2,
   "id": "f3eee4f6-e183-4b02-a83a-341736e1ede3",
   "metadata": {},
   "outputs": [
    {
     "name": "stdout",
     "output_type": "stream",
     "text": [
      "['การประมวลผลภาษาธรรมชาติ', 'เป็นวิทยาการแขนงหนึ่งในหมวดหมู่ของเทคโนโลยีปัญญาประดิษฐ์']\n"
     ]
    }
   ],
   "source": [
    "text = (\"การประมวลผลภาษาธรรมชาติ เป็นวิทยาการแขนงหนึ่งในหมวดหมู่ของเทคโนโลยีปัญญาประดิษฐ์\")\n",
    "print(sent_tokenize(text, engine=\"whitespace+newline\"))"
   ]
  },
  {
   "cell_type": "code",
   "execution_count": null,
   "id": "7f408cb0-cab4-477c-a1f2-08d2c8f3f7e0",
   "metadata": {},
   "outputs": [],
   "source": [
    "from pythainlp.tokenize.multi_cut import find_all_segment, mmcut, segment\n",
    "\n",
    "find_all_segment(text)"
   ]
  },
  {
   "cell_type": "code",
   "execution_count": 17,
   "id": "7fdae539-3221-4adb-952e-9742add8c1d3",
   "metadata": {},
   "outputs": [
    {
     "data": {
      "text/plain": [
       "'พ่อ'"
      ]
     },
     "execution_count": 17,
     "metadata": {},
     "output_type": "execute_result"
    }
   ],
   "source": [
    "from pythainlp import correct\n",
    "correct(\"พ่อง\")"
   ]
  },
  {
   "cell_type": "code",
   "execution_count": 29,
   "id": "d92c3cbe-ab1d-417a-be0c-12387ae7bb51",
   "metadata": {},
   "outputs": [
    {
     "name": "stdout",
     "output_type": "stream",
     "text": [
      "['แมว', 'ของ', 'พ่อ', 'ง', 'ชอบ', 'ปีน', 'หลังคา', 'แล้ว', 'หล่น', 'ลงมา']\n",
      "['แมว', 'ของ', 'พ่อ', 'ลง', 'ชอบ', 'ปีน', 'หลังคา', 'แล้ว', 'หล่น', 'ลงกา']\n"
     ]
    }
   ],
   "source": [
    "from pythainlp import word_tokenize\n",
    "text = 'แมวของพ่องชอบปีนหลังคาแล้วหล่นลงมา' \n",
    "words = word_tokenize(text, engine='newmm')\n",
    "print(words)\n",
    "ws = []\n",
    "for w in words:\n",
    "    ws.append(correct(w))\n",
    "print(ws)"
   ]
  },
  {
   "cell_type": "code",
   "execution_count": null,
   "id": "74b3cb79-3061-4776-8054-5d2d7380948c",
   "metadata": {},
   "outputs": [],
   "source": []
  }
 ],
 "metadata": {
  "kernelspec": {
   "display_name": "Python 3 (ipykernel)",
   "language": "python",
   "name": "python3"
  },
  "language_info": {
   "codemirror_mode": {
    "name": "ipython",
    "version": 3
   },
   "file_extension": ".py",
   "mimetype": "text/x-python",
   "name": "python",
   "nbconvert_exporter": "python",
   "pygments_lexer": "ipython3",
   "version": "3.10.6"
  }
 },
 "nbformat": 4,
 "nbformat_minor": 5
}
